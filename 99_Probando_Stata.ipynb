{
  "cells": [
    {
      "cell_type": "raw",
      "metadata": {},
      "source": [
        "---\n",
        "title: \"1er Trabajo Práctico de Econometría\"\n",
        "author:\n",
        "  - name: Mauro Ciani\n",
        "  - name: Juan Camilo Gutman\n",
        "\n",
        "abstract: > \n",
        "  El presente trabajo se propuso blabla\n",
        "---"
      ],
      "id": "ebe40dec"
    },
    {
      "cell_type": "markdown",
      "metadata": {},
      "source": [
        "Increíble, pero gracias al paquete \"Statamarkdown\" se puede correr Stata acá.\n",
        "\n",
        "\n",
        "```{stata}\n",
        "use \"bases\\eph_1abc.dta\"\n",
        "gen edad2 = edad^2\n",
        "\n",
        "reg logSal educn edad edad2 i.est_civ i.region\n",
        "estimates store reg1\n",
        "\n",
        "test _b[edad2] * 100 + _b[edad] = 0\n",
        "estimates store testlineal\n",
        "\n",
        "esttab testlineal using \"docs\\testlineal.tex\", replace\n",
        "```"
      ],
      "id": "d20b914d"
    }
  ],
  "metadata": {
    "kernelspec": {
      "display_name": "Python 3",
      "language": "python",
      "name": "python3"
    }
  },
  "nbformat": 4,
  "nbformat_minor": 5
}